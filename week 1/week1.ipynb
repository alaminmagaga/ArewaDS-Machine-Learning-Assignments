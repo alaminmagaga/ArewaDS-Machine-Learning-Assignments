{
 "cells": [
  {
   "cell_type": "markdown",
   "id": "c4bd5223",
   "metadata": {},
   "source": [
    "# What is Machine Learning"
   ]
  },
  {
   "cell_type": "markdown",
   "id": "be8ee4d5",
   "metadata": {},
   "source": [
    "ML is a subset of AI that enables machines to learn from data and improve over time without being explicitly programmed.\n",
    "\n",
    "In other words, instead of being given a set of rules to follow, ML algorithms can learn from experience and improve their performance through trial and error. This allows them to adapt to new and unseen situations and make accurate predictions or decisions based on the data they have learned."
   ]
  },
  {
   "cell_type": "markdown",
   "id": "7894da9d",
   "metadata": {},
   "source": [
    "# Artificial intelligence (AI) "
   ]
  },
  {
   "cell_type": "markdown",
   "id": "1d6ba9c2",
   "metadata": {},
   "source": [
    "Artificial intelligence (AI) is defined as “the ability of a computer or a robot controlled by a computer to do tasks that are usually done by humans because they require human intelligence and discernment”\n",
    "\n",
    "These machines are designed to learn, reason, and self-correct without human intervention. One of the most common examples of AI is language translation, text-to-speech, facial recognition, recommender systems, and virtual assistants such as Siri and Alexa, which can perform tasks such as playing music, setting reminders, and answering questions."
   ]
  },
  {
   "cell_type": "markdown",
   "id": "601aeebd",
   "metadata": {},
   "source": [
    "# History of Machine Learning"
   ]
  },
  {
   "cell_type": "markdown",
   "id": "c56f13bb",
   "metadata": {},
   "source": [
    "Machine learning was first conceived from the mathematical modeling of neural networks. A paper by logician Walter Pitts and neuroscientist Warren McCulloch, published in 1943, attempted to mathematically map out thought processes and decision making in human cognition.\n",
    "\n",
    "In 1950, Alan Turning proposed the Turing Test, which became the litmus test for which machines were deemed \"intelligent\" or \"unintelligent.\" The criteria for a machine to receive status as an \"intelligent\" machine, was for it to have the ability to convince a human being that it, the machine, was also a human being. Soon after, a summer research program at Dartmouth College became the official birthplace of AI.\n",
    "\n",
    "From this point on, \"intelligent\" machine learning algorithms and computer programs started to appear, doing everything from planning travel routes for salespeople, to playing board games with humans such as checkers and tic-tac-toe.\n",
    "\n",
    "Intelligent machines went on to do everything from using speech recognition to learning to pronounce words the way a baby would learn to defeating a world chess champion at his own game. The infographic below shows the history of machine learning and how it grew from mathematical models to sophisticated technology.  "
   ]
  },
  {
   "cell_type": "markdown",
   "id": "2d1136d1",
   "metadata": {},
   "source": [
    "# Application AI and Machine Learning"
   ]
  },
  {
   "cell_type": "markdown",
   "id": "15389f8a",
   "metadata": {},
   "source": [
    "some notable applications of AI and ML<br>\n",
    "1-Autonomous Vehicles<br>\n",
    "2-Recommendation Systems<br>\n",
    "3-Fraud Detection<br>\n",
    "4-Healthcare<br>\n",
    "5-Predictive Maintenance"
   ]
  },
  {
   "cell_type": "markdown",
   "id": "ed0e3cf6",
   "metadata": {},
   "source": [
    "# Conclusion"
   ]
  },
  {
   "cell_type": "markdown",
   "id": "4ce5a07f",
   "metadata": {},
   "source": [
    "AI and ML are transforming the way we live, work, and interact with technology. These technologies have the potential to solve complex problems, increase efficiency, and improve our quality of life. It is essential to have a basic understanding of these technologies to fully appreciate their potential and to make informed decisions about their applications."
   ]
  },
  {
   "cell_type": "markdown",
   "id": "0aa59dce",
   "metadata": {},
   "source": [
    "# Reference"
   ]
  },
  {
   "cell_type": "markdown",
   "id": "a540ef51",
   "metadata": {},
   "source": [
    "<i>Reference: TechTarget. (n.d.). A timeline of machine learning history. <br>Retrieved from techtarget.com/whatis/A-Timeline-of-Machine-Learning-History</i>"
   ]
  },
  {
   "cell_type": "code",
   "execution_count": null,
   "id": "4eef7fc4",
   "metadata": {},
   "outputs": [],
   "source": []
  }
 ],
 "metadata": {
  "kernelspec": {
   "display_name": "Python 3 (ipykernel)",
   "language": "python",
   "name": "python3"
  },
  "language_info": {
   "codemirror_mode": {
    "name": "ipython",
    "version": 3
   },
   "file_extension": ".py",
   "mimetype": "text/x-python",
   "name": "python",
   "nbconvert_exporter": "python",
   "pygments_lexer": "ipython3",
   "version": "3.9.7"
  }
 },
 "nbformat": 4,
 "nbformat_minor": 5
}
