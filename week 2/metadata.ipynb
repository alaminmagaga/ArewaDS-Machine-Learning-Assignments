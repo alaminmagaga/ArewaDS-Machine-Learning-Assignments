{
 "cells": [
  {
   "cell_type": "code",
   "execution_count": 16,
   "id": "cb331f50",
   "metadata": {},
   "outputs": [],
   "source": [
    "import pandas as pd\n",
    "import matplotlib.pyplot as plt\n",
    "import seaborn as sns\n",
    "\n",
    "import warnings\n",
    "warnings.filterwarnings('ignore')"
   ]
  },
  {
   "cell_type": "code",
   "execution_count": 2,
   "id": "a3e85186",
   "metadata": {},
   "outputs": [],
   "source": [
    "df=pd.read_csv(\"metadata.csv\")"
   ]
  },
  {
   "cell_type": "code",
   "execution_count": 3,
   "id": "d5978444",
   "metadata": {},
   "outputs": [
    {
     "data": {
      "text/html": [
       "<div>\n",
       "<style scoped>\n",
       "    .dataframe tbody tr th:only-of-type {\n",
       "        vertical-align: middle;\n",
       "    }\n",
       "\n",
       "    .dataframe tbody tr th {\n",
       "        vertical-align: top;\n",
       "    }\n",
       "\n",
       "    .dataframe thead th {\n",
       "        text-align: right;\n",
       "    }\n",
       "</style>\n",
       "<table border=\"1\" class=\"dataframe\">\n",
       "  <thead>\n",
       "    <tr style=\"text-align: right;\">\n",
       "      <th></th>\n",
       "      <th>cord_uid</th>\n",
       "      <th>sha</th>\n",
       "      <th>source_x</th>\n",
       "      <th>title</th>\n",
       "      <th>doi</th>\n",
       "      <th>pmcid</th>\n",
       "      <th>pubmed_id</th>\n",
       "      <th>license</th>\n",
       "      <th>abstract</th>\n",
       "      <th>publish_time</th>\n",
       "      <th>authors</th>\n",
       "      <th>journal</th>\n",
       "      <th>mag_id</th>\n",
       "      <th>who_covidence_id</th>\n",
       "      <th>arxiv_id</th>\n",
       "      <th>pdf_json_files</th>\n",
       "      <th>pmc_json_files</th>\n",
       "      <th>url</th>\n",
       "      <th>s2_id</th>\n",
       "    </tr>\n",
       "  </thead>\n",
       "  <tbody>\n",
       "    <tr>\n",
       "      <th>0</th>\n",
       "      <td>4429oz9s</td>\n",
       "      <td>NaN</td>\n",
       "      <td>Medline</td>\n",
       "      <td>Will pay for performance improve quality of ca...</td>\n",
       "      <td>10.1056/nejme1212133</td>\n",
       "      <td>NaN</td>\n",
       "      <td>23134388.0</td>\n",
       "      <td>unk</td>\n",
       "      <td>NaN</td>\n",
       "      <td>2012</td>\n",
       "      <td>Epstein, Arnold M</td>\n",
       "      <td>The New England journal of medicine</td>\n",
       "      <td>NaN</td>\n",
       "      <td>NaN</td>\n",
       "      <td>NaN</td>\n",
       "      <td>NaN</td>\n",
       "      <td>NaN</td>\n",
       "      <td>https://doi.org/10.1056/nejme1212133; https://...</td>\n",
       "      <td>10014458.0</td>\n",
       "    </tr>\n",
       "    <tr>\n",
       "      <th>1</th>\n",
       "      <td>sjdy79ok</td>\n",
       "      <td>NaN</td>\n",
       "      <td>Medline; WHO</td>\n",
       "      <td>Impact of Sitagliptin in Non-Diabetic Covid-19...</td>\n",
       "      <td>10.2174/1874467214666210902115650</td>\n",
       "      <td>NaN</td>\n",
       "      <td>34477540.0</td>\n",
       "      <td>unk</td>\n",
       "      <td>OBJECTIVE In Coronavirus disease 2019 (Covid-1...</td>\n",
       "      <td>2021-09-01</td>\n",
       "      <td>Al-Kuraishy, Hayder M; Al-Gareeb, Ali I; Qusty...</td>\n",
       "      <td>Current molecular pharmacology</td>\n",
       "      <td>NaN</td>\n",
       "      <td>NaN</td>\n",
       "      <td>NaN</td>\n",
       "      <td>NaN</td>\n",
       "      <td>NaN</td>\n",
       "      <td>https://doi.org/10.2174/1874467214666210902115...</td>\n",
       "      <td>237399283.0</td>\n",
       "    </tr>\n",
       "    <tr>\n",
       "      <th>2</th>\n",
       "      <td>qa5n3xpi</td>\n",
       "      <td>NaN</td>\n",
       "      <td>WHO</td>\n",
       "      <td>Utilizing Health Behavior Change and Technolog...</td>\n",
       "      <td>NaN</td>\n",
       "      <td>NaN</td>\n",
       "      <td>NaN</td>\n",
       "      <td>unk</td>\n",
       "      <td>BACKGROUND: To combat the global COVID-19 pand...</td>\n",
       "      <td>2021</td>\n",
       "      <td>Tomczyk, Samuel; Barth, Simon; Schmidt, Silke;...</td>\n",
       "      <td>J Med Internet Res</td>\n",
       "      <td>NaN</td>\n",
       "      <td>#covidwho-1259297</td>\n",
       "      <td>NaN</td>\n",
       "      <td>NaN</td>\n",
       "      <td>NaN</td>\n",
       "      <td>NaN</td>\n",
       "      <td>233351148.0</td>\n",
       "    </tr>\n",
       "    <tr>\n",
       "      <th>3</th>\n",
       "      <td>jasf7agm</td>\n",
       "      <td>4d4a64f98aac069dd375c8a82d84808fcd7493d8</td>\n",
       "      <td>Medline; PMC</td>\n",
       "      <td>Tiotropium bromide as adjunct therapy in child...</td>\n",
       "      <td>10.1186/s13223-021-00632-4</td>\n",
       "      <td>PMC8666101</td>\n",
       "      <td>34895321.0</td>\n",
       "      <td>cc-by</td>\n",
       "      <td>BACKGROUND: The Global Initiative for Asthma h...</td>\n",
       "      <td>2021-12-12</td>\n",
       "      <td>Ridha, Zainab; Bédard, Marc-Antoine; Smyrnova,...</td>\n",
       "      <td>Allergy Asthma Clin Immunol</td>\n",
       "      <td>NaN</td>\n",
       "      <td>NaN</td>\n",
       "      <td>NaN</td>\n",
       "      <td>document_parses/pdf_json/4d4a64f98aac069dd375c...</td>\n",
       "      <td>document_parses/pmc_json/PMC8666101.xml.json</td>\n",
       "      <td>https://doi.org/10.1186/s13223-021-00632-4; ht...</td>\n",
       "      <td>245118970.0</td>\n",
       "    </tr>\n",
       "    <tr>\n",
       "      <th>4</th>\n",
       "      <td>dagq84tr</td>\n",
       "      <td>464b915e6d545b37d65ac58cecf42512b11a92e2</td>\n",
       "      <td>Medline; PMC; WHO</td>\n",
       "      <td>Anti-inflammatory adipokines: chemerin, vaspin...</td>\n",
       "      <td>10.1038/s41598-021-00928-w</td>\n",
       "      <td>PMC8563971</td>\n",
       "      <td>34728695.0</td>\n",
       "      <td>cc-by</td>\n",
       "      <td>Coronavirus disease 2019 (COVID-19) is associa...</td>\n",
       "      <td>2021-11-02</td>\n",
       "      <td>Kukla, Michał; Menżyk, Tomasz; Dembiński, Marc...</td>\n",
       "      <td>Sci Rep</td>\n",
       "      <td>NaN</td>\n",
       "      <td>NaN</td>\n",
       "      <td>NaN</td>\n",
       "      <td>document_parses/pdf_json/464b915e6d545b37d65ac...</td>\n",
       "      <td>document_parses/pmc_json/PMC8563971.xml.json</td>\n",
       "      <td>https://doi.org/10.1038/s41598-021-00928-w; ht...</td>\n",
       "      <td>241112264.0</td>\n",
       "    </tr>\n",
       "  </tbody>\n",
       "</table>\n",
       "</div>"
      ],
      "text/plain": [
       "   cord_uid                                       sha           source_x  \\\n",
       "0  4429oz9s                                       NaN            Medline   \n",
       "1  sjdy79ok                                       NaN       Medline; WHO   \n",
       "2  qa5n3xpi                                       NaN                WHO   \n",
       "3  jasf7agm  4d4a64f98aac069dd375c8a82d84808fcd7493d8       Medline; PMC   \n",
       "4  dagq84tr  464b915e6d545b37d65ac58cecf42512b11a92e2  Medline; PMC; WHO   \n",
       "\n",
       "                                               title  \\\n",
       "0  Will pay for performance improve quality of ca...   \n",
       "1  Impact of Sitagliptin in Non-Diabetic Covid-19...   \n",
       "2  Utilizing Health Behavior Change and Technolog...   \n",
       "3  Tiotropium bromide as adjunct therapy in child...   \n",
       "4  Anti-inflammatory adipokines: chemerin, vaspin...   \n",
       "\n",
       "                                 doi       pmcid   pubmed_id license  \\\n",
       "0               10.1056/nejme1212133         NaN  23134388.0     unk   \n",
       "1  10.2174/1874467214666210902115650         NaN  34477540.0     unk   \n",
       "2                                NaN         NaN         NaN     unk   \n",
       "3         10.1186/s13223-021-00632-4  PMC8666101  34895321.0   cc-by   \n",
       "4         10.1038/s41598-021-00928-w  PMC8563971  34728695.0   cc-by   \n",
       "\n",
       "                                            abstract publish_time  \\\n",
       "0                                                NaN         2012   \n",
       "1  OBJECTIVE In Coronavirus disease 2019 (Covid-1...   2021-09-01   \n",
       "2  BACKGROUND: To combat the global COVID-19 pand...         2021   \n",
       "3  BACKGROUND: The Global Initiative for Asthma h...   2021-12-12   \n",
       "4  Coronavirus disease 2019 (COVID-19) is associa...   2021-11-02   \n",
       "\n",
       "                                             authors  \\\n",
       "0                                  Epstein, Arnold M   \n",
       "1  Al-Kuraishy, Hayder M; Al-Gareeb, Ali I; Qusty...   \n",
       "2  Tomczyk, Samuel; Barth, Simon; Schmidt, Silke;...   \n",
       "3  Ridha, Zainab; Bédard, Marc-Antoine; Smyrnova,...   \n",
       "4  Kukla, Michał; Menżyk, Tomasz; Dembiński, Marc...   \n",
       "\n",
       "                               journal  mag_id   who_covidence_id  arxiv_id  \\\n",
       "0  The New England journal of medicine     NaN                NaN       NaN   \n",
       "1       Current molecular pharmacology     NaN                NaN       NaN   \n",
       "2                   J Med Internet Res     NaN  #covidwho-1259297       NaN   \n",
       "3          Allergy Asthma Clin Immunol     NaN                NaN       NaN   \n",
       "4                              Sci Rep     NaN                NaN       NaN   \n",
       "\n",
       "                                      pdf_json_files  \\\n",
       "0                                                NaN   \n",
       "1                                                NaN   \n",
       "2                                                NaN   \n",
       "3  document_parses/pdf_json/4d4a64f98aac069dd375c...   \n",
       "4  document_parses/pdf_json/464b915e6d545b37d65ac...   \n",
       "\n",
       "                                 pmc_json_files  \\\n",
       "0                                           NaN   \n",
       "1                                           NaN   \n",
       "2                                           NaN   \n",
       "3  document_parses/pmc_json/PMC8666101.xml.json   \n",
       "4  document_parses/pmc_json/PMC8563971.xml.json   \n",
       "\n",
       "                                                 url        s2_id  \n",
       "0  https://doi.org/10.1056/nejme1212133; https://...   10014458.0  \n",
       "1  https://doi.org/10.2174/1874467214666210902115...  237399283.0  \n",
       "2                                                NaN  233351148.0  \n",
       "3  https://doi.org/10.1186/s13223-021-00632-4; ht...  245118970.0  \n",
       "4  https://doi.org/10.1038/s41598-021-00928-w; ht...  241112264.0  "
      ]
     },
     "execution_count": 3,
     "metadata": {},
     "output_type": "execute_result"
    }
   ],
   "source": [
    "df.head()"
   ]
  },
  {
   "cell_type": "code",
   "execution_count": 4,
   "id": "f518a2ae",
   "metadata": {},
   "outputs": [
    {
     "name": "stdout",
     "output_type": "stream",
     "text": [
      "<class 'pandas.core.frame.DataFrame'>\n",
      "RangeIndex: 1000 entries, 0 to 999\n",
      "Data columns (total 19 columns):\n",
      " #   Column            Non-Null Count  Dtype  \n",
      "---  ------            --------------  -----  \n",
      " 0   cord_uid          1000 non-null   object \n",
      " 1   sha               344 non-null    object \n",
      " 2   source_x          1000 non-null   object \n",
      " 3   title             1000 non-null   object \n",
      " 4   doi               625 non-null    object \n",
      " 5   pmcid             370 non-null    object \n",
      " 6   pubmed_id         486 non-null    float64\n",
      " 7   license           1000 non-null   object \n",
      " 8   abstract          785 non-null    object \n",
      " 9   publish_time      996 non-null    object \n",
      " 10  authors           975 non-null    object \n",
      " 11  journal           925 non-null    object \n",
      " 12  mag_id            0 non-null      float64\n",
      " 13  who_covidence_id  440 non-null    object \n",
      " 14  arxiv_id          11 non-null     float64\n",
      " 15  pdf_json_files    344 non-null    object \n",
      " 16  pmc_json_files    297 non-null    object \n",
      " 17  url               655 non-null    object \n",
      " 18  s2_id             923 non-null    float64\n",
      "dtypes: float64(4), object(15)\n",
      "memory usage: 148.6+ KB\n"
     ]
    }
   ],
   "source": [
    "df.info()"
   ]
  },
  {
   "cell_type": "code",
   "execution_count": 5,
   "id": "7d7d6412",
   "metadata": {},
   "outputs": [
    {
     "data": {
      "text/html": [
       "<div>\n",
       "<style scoped>\n",
       "    .dataframe tbody tr th:only-of-type {\n",
       "        vertical-align: middle;\n",
       "    }\n",
       "\n",
       "    .dataframe tbody tr th {\n",
       "        vertical-align: top;\n",
       "    }\n",
       "\n",
       "    .dataframe thead th {\n",
       "        text-align: right;\n",
       "    }\n",
       "</style>\n",
       "<table border=\"1\" class=\"dataframe\">\n",
       "  <thead>\n",
       "    <tr style=\"text-align: right;\">\n",
       "      <th></th>\n",
       "      <th>pubmed_id</th>\n",
       "      <th>mag_id</th>\n",
       "      <th>arxiv_id</th>\n",
       "      <th>s2_id</th>\n",
       "    </tr>\n",
       "  </thead>\n",
       "  <tbody>\n",
       "    <tr>\n",
       "      <th>count</th>\n",
       "      <td>4.860000e+02</td>\n",
       "      <td>0.0</td>\n",
       "      <td>11.000000</td>\n",
       "      <td>9.230000e+02</td>\n",
       "    </tr>\n",
       "    <tr>\n",
       "      <th>mean</th>\n",
       "      <td>3.201183e+07</td>\n",
       "      <td>NaN</td>\n",
       "      <td>2026.339898</td>\n",
       "      <td>2.165959e+08</td>\n",
       "    </tr>\n",
       "    <tr>\n",
       "      <th>std</th>\n",
       "      <td>5.581718e+06</td>\n",
       "      <td>NaN</td>\n",
       "      <td>123.869763</td>\n",
       "      <td>5.349706e+07</td>\n",
       "    </tr>\n",
       "    <tr>\n",
       "      <th>min</th>\n",
       "      <td>2.150280e+05</td>\n",
       "      <td>NaN</td>\n",
       "      <td>1712.014310</td>\n",
       "      <td>1.974011e+06</td>\n",
       "    </tr>\n",
       "    <tr>\n",
       "      <th>25%</th>\n",
       "      <td>3.262287e+07</td>\n",
       "      <td>NaN</td>\n",
       "      <td>2007.073345</td>\n",
       "      <td>2.205227e+08</td>\n",
       "    </tr>\n",
       "    <tr>\n",
       "      <th>50%</th>\n",
       "      <td>3.365804e+07</td>\n",
       "      <td>NaN</td>\n",
       "      <td>2101.102240</td>\n",
       "      <td>2.318664e+08</td>\n",
       "    </tr>\n",
       "    <tr>\n",
       "      <th>75%</th>\n",
       "      <td>3.462913e+07</td>\n",
       "      <td>NaN</td>\n",
       "      <td>2108.031400</td>\n",
       "      <td>2.369510e+08</td>\n",
       "    </tr>\n",
       "    <tr>\n",
       "      <th>max</th>\n",
       "      <td>3.562586e+07</td>\n",
       "      <td>NaN</td>\n",
       "      <td>2112.043510</td>\n",
       "      <td>2.491005e+08</td>\n",
       "    </tr>\n",
       "  </tbody>\n",
       "</table>\n",
       "</div>"
      ],
      "text/plain": [
       "          pubmed_id  mag_id     arxiv_id         s2_id\n",
       "count  4.860000e+02     0.0    11.000000  9.230000e+02\n",
       "mean   3.201183e+07     NaN  2026.339898  2.165959e+08\n",
       "std    5.581718e+06     NaN   123.869763  5.349706e+07\n",
       "min    2.150280e+05     NaN  1712.014310  1.974011e+06\n",
       "25%    3.262287e+07     NaN  2007.073345  2.205227e+08\n",
       "50%    3.365804e+07     NaN  2101.102240  2.318664e+08\n",
       "75%    3.462913e+07     NaN  2108.031400  2.369510e+08\n",
       "max    3.562586e+07     NaN  2112.043510  2.491005e+08"
      ]
     },
     "execution_count": 5,
     "metadata": {},
     "output_type": "execute_result"
    }
   ],
   "source": [
    "df.describe()"
   ]
  },
  {
   "cell_type": "code",
   "execution_count": 6,
   "id": "ce01f700",
   "metadata": {},
   "outputs": [
    {
     "data": {
      "text/plain": [
       "cord_uid               0\n",
       "sha                  656\n",
       "source_x               0\n",
       "title                  0\n",
       "doi                  375\n",
       "pmcid                630\n",
       "pubmed_id            514\n",
       "license                0\n",
       "abstract             215\n",
       "publish_time           4\n",
       "authors               25\n",
       "journal               75\n",
       "mag_id              1000\n",
       "who_covidence_id     560\n",
       "arxiv_id             989\n",
       "pdf_json_files       656\n",
       "pmc_json_files       703\n",
       "url                  345\n",
       "s2_id                 77\n",
       "dtype: int64"
      ]
     },
     "execution_count": 6,
     "metadata": {},
     "output_type": "execute_result"
    }
   ],
   "source": [
    "df.isnull().sum()"
   ]
  },
  {
   "cell_type": "code",
   "execution_count": 7,
   "id": "2e5e1c9f",
   "metadata": {},
   "outputs": [
    {
     "data": {
      "text/html": [
       "<div>\n",
       "<style scoped>\n",
       "    .dataframe tbody tr th:only-of-type {\n",
       "        vertical-align: middle;\n",
       "    }\n",
       "\n",
       "    .dataframe tbody tr th {\n",
       "        vertical-align: top;\n",
       "    }\n",
       "\n",
       "    .dataframe thead th {\n",
       "        text-align: right;\n",
       "    }\n",
       "</style>\n",
       "<table border=\"1\" class=\"dataframe\">\n",
       "  <thead>\n",
       "    <tr style=\"text-align: right;\">\n",
       "      <th></th>\n",
       "      <th>pubmed_id</th>\n",
       "      <th>mag_id</th>\n",
       "      <th>arxiv_id</th>\n",
       "      <th>s2_id</th>\n",
       "    </tr>\n",
       "  </thead>\n",
       "  <tbody>\n",
       "    <tr>\n",
       "      <th>pubmed_id</th>\n",
       "      <td>1.000000</td>\n",
       "      <td>NaN</td>\n",
       "      <td>NaN</td>\n",
       "      <td>0.824378</td>\n",
       "    </tr>\n",
       "    <tr>\n",
       "      <th>mag_id</th>\n",
       "      <td>NaN</td>\n",
       "      <td>NaN</td>\n",
       "      <td>NaN</td>\n",
       "      <td>NaN</td>\n",
       "    </tr>\n",
       "    <tr>\n",
       "      <th>arxiv_id</th>\n",
       "      <td>NaN</td>\n",
       "      <td>NaN</td>\n",
       "      <td>1.000000</td>\n",
       "      <td>0.395022</td>\n",
       "    </tr>\n",
       "    <tr>\n",
       "      <th>s2_id</th>\n",
       "      <td>0.824378</td>\n",
       "      <td>NaN</td>\n",
       "      <td>0.395022</td>\n",
       "      <td>1.000000</td>\n",
       "    </tr>\n",
       "  </tbody>\n",
       "</table>\n",
       "</div>"
      ],
      "text/plain": [
       "           pubmed_id  mag_id  arxiv_id     s2_id\n",
       "pubmed_id   1.000000     NaN       NaN  0.824378\n",
       "mag_id           NaN     NaN       NaN       NaN\n",
       "arxiv_id         NaN     NaN  1.000000  0.395022\n",
       "s2_id       0.824378     NaN  0.395022  1.000000"
      ]
     },
     "execution_count": 7,
     "metadata": {},
     "output_type": "execute_result"
    }
   ],
   "source": [
    "df.corr()"
   ]
  },
  {
   "cell_type": "code",
   "execution_count": 8,
   "id": "f23594fa",
   "metadata": {},
   "outputs": [
    {
     "data": {
      "text/plain": [
       "WHO                            415\n",
       "Medline; PMC                   143\n",
       "Medline                        136\n",
       "PMC                             77\n",
       "Medline; PMC; WHO               70\n",
       "Elsevier; Medline; PMC          41\n",
       "Medline; WHO                    40\n",
       "Elsevier; Medline; PMC; WHO     23\n",
       "MedRxiv; WHO                    11\n",
       "ArXiv                           11\n",
       "BioRxiv                          8\n",
       "PMC; WHO                         7\n",
       "Elsevier; PMC                    6\n",
       "MedRxiv                          3\n",
       "Elsevier; PMC; WHO               3\n",
       "BioRxiv; WHO                     2\n",
       "MedRxiv; Medline; WHO            2\n",
       "BioRxiv; MedRxiv; WHO            1\n",
       "Elsevier                         1\n",
       "Name: source_x, dtype: int64"
      ]
     },
     "execution_count": 8,
     "metadata": {},
     "output_type": "execute_result"
    }
   ],
   "source": [
    "df.source_x.value_counts()"
   ]
  },
  {
   "cell_type": "code",
   "execution_count": 9,
   "id": "76815a80",
   "metadata": {},
   "outputs": [
    {
     "data": {
      "text/plain": [
       "Covid-19: quels prélèvements pour quels tests?                                                                                                2\n",
       "Will pay for performance improve quality of care? The answer is in the details.                                                               1\n",
       "Evaluation of LL-37 in healing of hard-to-heal venous leg ulcers: A multicentric prospective randomized placebo-controlled clinical trial.    1\n",
       "Wish-making during the COVID-19 pandemic enhances positive appraisals and job satisfaction                                                    1\n",
       "Significant impact of nationwide SARS-CoV-2 lockdown measures on the circulation of other respiratory virus infections in Austria             1\n",
       "                                                                                                                                             ..\n",
       "A suspicious role of interferon in the pathogenesis of SARS-CoV-2 by enhancing expression of ACE2                                             1\n",
       "Video Game Streaming in Young People and Teenagers: Uptake, User Groups, Dangers, and Opportunities                                           1\n",
       "Necessity of Attention to Mental Health of the Front Line Nurses against COVID-19: A Forgotten Requirement                                    1\n",
       "Investigation of Anti-SARS-CoV-2 IgG and IgM Antibodies in the Patients with COVID-19 by Three Different ELISA Test Kits                      1\n",
       "QAnon—Religious Roots, Religious Responses                                                                                                    1\n",
       "Name: title, Length: 999, dtype: int64"
      ]
     },
     "execution_count": 9,
     "metadata": {},
     "output_type": "execute_result"
    }
   ],
   "source": [
    "df.title.value_counts()"
   ]
  },
  {
   "cell_type": "code",
   "execution_count": 11,
   "id": "274c6571",
   "metadata": {},
   "outputs": [
    {
     "data": {
      "text/plain": [
       "unk            573\n",
       "no-cc          158\n",
       "cc-by          141\n",
       "cc-by-nc        34\n",
       "els-covid       30\n",
       "cc-by-nc-nd     20\n",
       "medrxiv         14\n",
       "biorxiv         11\n",
       "arxiv           11\n",
       "cc-by-nc-sa      6\n",
       "hybrid-oa        1\n",
       "pd               1\n",
       "Name: license, dtype: int64"
      ]
     },
     "execution_count": 11,
     "metadata": {},
     "output_type": "execute_result"
    }
   ],
   "source": [
    "df.license.value_counts()"
   ]
  },
  {
   "cell_type": "code",
   "execution_count": 12,
   "id": "85e2f027",
   "metadata": {},
   "outputs": [
    {
     "data": {
      "text/plain": [
       "bioRxiv                                 12\n",
       "Nature                                  11\n",
       "Front Immunol                            8\n",
       "BMJ                                      7\n",
       "PLoS One                                 7\n",
       "                                        ..\n",
       "Signal Transduct Target Ther             1\n",
       "Int J Community Based Nurs Midwifery     1\n",
       "SN Compr Clin Med                        1\n",
       "Int. j. gynaecol. obstet                 1\n",
       "Critical Sociology                       1\n",
       "Name: journal, Length: 779, dtype: int64"
      ]
     },
     "execution_count": 12,
     "metadata": {},
     "output_type": "execute_result"
    }
   ],
   "source": [
    "df.journal.value_counts()"
   ]
  },
  {
   "cell_type": "code",
   "execution_count": 14,
   "id": "63f21d67",
   "metadata": {},
   "outputs": [
    {
     "data": {
      "image/png": "[encoded data removed]",
      "text/plain": [
       "<Figure size 1152x1152 with 2 Axes>"
      ]
     },
     "metadata": {
      "needs_background": "light"
     },
     "output_type": "display_data"
    }
   ],
   "source": [
    "plt.figure(figsize=(16,16))\n",
    "sns.heatmap(df.corr(),annot=True,cmap=\"RdYlGn\")\n",
    "plt.show()"
   ]
  },
  {
   "cell_type": "code",
   "execution_count": 17,
   "id": "39692fe4",
   "metadata": {},
   "outputs": [
    {
     "data": {
      "image/png": "[encoded data removed]",
      "text/plain": [
       "<Figure size 1080x360 with 1 Axes>"
      ]
     },
     "metadata": {
      "needs_background": "light"
     },
     "output_type": "display_data"
    }
   ],
   "source": [
    "plt.figure(figsize=(15,5))\n",
    "sns.countplot(df.license,palette='Set2')\n",
    "plt.title('the countplot of licence distribution')\n",
    "plt.xlabel('license')\n",
    "plt.ylabel('count')\n",
    "plt.show()"
   ]
  },
  {
   "cell_type": "code",
   "execution_count": null,
   "id": "dba29835",
   "metadata": {},
   "outputs": [],
   "source": []
  }
 ],
 "metadata": {
  "kernelspec": {
   "display_name": "Python 3 (ipykernel)",
   "language": "python",
   "name": "python3"
  },
  "language_info": {
   "codemirror_mode": {
    "name": "ipython",
    "version": 3
   },
   "file_extension": ".py",
   "mimetype": "text/x-python",
   "name": "python",
   "nbconvert_exporter": "python",
   "pygments_lexer": "ipython3",
   "version": "3.9.7"
  }
 },
 "nbformat": 4,
 "nbformat_minor": 5
}
